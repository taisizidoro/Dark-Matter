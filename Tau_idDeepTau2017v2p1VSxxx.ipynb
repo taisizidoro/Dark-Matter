{
 "cells": [
  {
   "cell_type": "code",
   "execution_count": 88,
   "metadata": {},
   "outputs": [],
   "source": [
    "import os\n",
    "import sys\n",
    "import importlib\n",
    "\n",
    "import pandas as pd\n",
    "import uproot as up\n",
    "import numpy as np\n",
    "import time\n",
    "\n",
    "import matplotlib.pyplot as plt\n",
    "import matplotlib.gridspec as gs\n",
    "\n",
    "from pathlib import Path\n",
    "import os.path\n",
    "import csv\n",
    "import pyroot as pr\n",
    "\n",
    "from matplotlib import pyplot as plt\n",
    "from math import cos, cosh, radians\n",
    "import matplotlib.patches as mpatches\n",
    "from matplotlib.ticker import MultipleLocator\n",
    "\n",
    "import awkward as ak"
   ]
  },
  {
   "cell_type": "markdown",
   "metadata": {},
   "source": [
    "# DataFrame Construction"
   ]
  },
  {
   "cell_type": "code",
   "execution_count": 89,
   "metadata": {},
   "outputs": [
    {
     "name": "stdout",
     "output_type": "stream",
     "text": [
      "reading dataset\n",
      "1F343B3A-A003-9D42-956A-63D0E972E3E9.root\n",
      "2FCFCFB1-696A-E84E-98B3-5FE5D2445345.root\n",
      "42DAD507-A3E8-DC4D-96F4-D85B9607935C.root\n",
      "55DF9C9F-05E5-8842-BF5E-CE86BCFC8882.root\n",
      "8729905A-86FF-814A-B31C-6713A78BB76A.root\n",
      "8CD9F2FC-76B7-E844-82EF-6B509F8C1A04.root\n",
      "EBB395DE-4617-B843-95CA-FEFB86253D89.root\n",
      "F38DB76E-F009-A84F-A958-368C6E212E9A.root\n",
      "done\n"
     ]
    }
   ],
   "source": [
    "parsed_events = []\n",
    "print(\"reading dataset\")\n",
    "#for file in os.listdir(r\"./PrivateSignal16_test/MH1000_Ma100_MChi45\"):\n",
    "for file in os.listdir(r\"D:\\taisd\\Documentos\\UERJ\\IC\\Higgs-to-tautau\\dataset\\dataset\"):\n",
    "    print(file)\n",
    "    try:\n",
    "        #dataset = up.open(os.path.join(r\"./PrivateSignal16_test/MH1000_Ma100_MChi45\", file))\n",
    "        dataset = up.open(os.path.join(r\"D:\\taisd\\Documentos\\UERJ\\IC\\Higgs-to-tautau\\dataset\\dataset\", file))\n",
    "        tree = dataset.get(\"Events;1\")\n",
    "        #abaixo com menos branches \n",
    "        objects = [\"Tau_idDeepTau2017v2p1VSjet\"]\n",
    "        events = tree.arrays(objects)\n",
    "\n",
    "        for event in events:\n",
    "            event = {k: getattr(event, k) for k in objects}\n",
    "            parsed_events.append(event)\n",
    "\n",
    "    except:\n",
    "        print(\"fail\")\n",
    "        break\n",
    "print(\"done\")\n",
    "\n",
    "datasets = parsed_events"
   ]
  },
  {
   "cell_type": "code",
   "execution_count": 90,
   "metadata": {},
   "outputs": [
    {
     "name": "stdout",
     "output_type": "stream",
     "text": [
      "246000\n"
     ]
    }
   ],
   "source": [
    "df = pd.DataFrame(datasets)\n",
    "print(len(df))"
   ]
  },
  {
   "cell_type": "code",
   "execution_count": 91,
   "metadata": {},
   "outputs": [
    {
     "data": {
      "text/html": [
       "<div>\n",
       "<style scoped>\n",
       "    .dataframe tbody tr th:only-of-type {\n",
       "        vertical-align: middle;\n",
       "    }\n",
       "\n",
       "    .dataframe tbody tr th {\n",
       "        vertical-align: top;\n",
       "    }\n",
       "\n",
       "    .dataframe thead th {\n",
       "        text-align: right;\n",
       "    }\n",
       "</style>\n",
       "<table border=\"1\" class=\"dataframe\">\n",
       "  <thead>\n",
       "    <tr style=\"text-align: right;\">\n",
       "      <th></th>\n",
       "      <th>Tau_idDeepTau2017v2p1VSjet</th>\n",
       "    </tr>\n",
       "  </thead>\n",
       "  <tbody>\n",
       "    <tr>\n",
       "      <th>0</th>\n",
       "      <td>[255]</td>\n",
       "    </tr>\n",
       "    <tr>\n",
       "      <th>1</th>\n",
       "      <td>[]</td>\n",
       "    </tr>\n",
       "    <tr>\n",
       "      <th>2</th>\n",
       "      <td>[255, 255]</td>\n",
       "    </tr>\n",
       "    <tr>\n",
       "      <th>3</th>\n",
       "      <td>[255, 255]</td>\n",
       "    </tr>\n",
       "    <tr>\n",
       "      <th>4</th>\n",
       "      <td>[]</td>\n",
       "    </tr>\n",
       "    <tr>\n",
       "      <th>...</th>\n",
       "      <td>...</td>\n",
       "    </tr>\n",
       "    <tr>\n",
       "      <th>245995</th>\n",
       "      <td>[3, 7]</td>\n",
       "    </tr>\n",
       "    <tr>\n",
       "      <th>245996</th>\n",
       "      <td>[255, 255, 1]</td>\n",
       "    </tr>\n",
       "    <tr>\n",
       "      <th>245997</th>\n",
       "      <td>[255, 255]</td>\n",
       "    </tr>\n",
       "    <tr>\n",
       "      <th>245998</th>\n",
       "      <td>[7]</td>\n",
       "    </tr>\n",
       "    <tr>\n",
       "      <th>245999</th>\n",
       "      <td>[255, 63]</td>\n",
       "    </tr>\n",
       "  </tbody>\n",
       "</table>\n",
       "<p>246000 rows × 1 columns</p>\n",
       "</div>"
      ],
      "text/plain": [
       "       Tau_idDeepTau2017v2p1VSjet\n",
       "0                           [255]\n",
       "1                              []\n",
       "2                      [255, 255]\n",
       "3                      [255, 255]\n",
       "4                              []\n",
       "...                           ...\n",
       "245995                     [3, 7]\n",
       "245996              [255, 255, 1]\n",
       "245997                 [255, 255]\n",
       "245998                        [7]\n",
       "245999                  [255, 63]\n",
       "\n",
       "[246000 rows x 1 columns]"
      ]
     },
     "execution_count": 91,
     "metadata": {},
     "output_type": "execute_result"
    }
   ],
   "source": [
    "df"
   ]
  },
  {
   "cell_type": "code",
   "execution_count": 92,
   "metadata": {},
   "outputs": [
    {
     "name": "stdout",
     "output_type": "stream",
     "text": [
      "[255, 255, 255, 255, 255, 255, 255, 255, ..., 255, 255, 1, 255, 255, 7, 255, 63]\n"
     ]
    }
   ],
   "source": [
    "data = ak.flatten(df['Tau_idDeepTau2017v2p1VSjet'])\n",
    "print(data)"
   ]
  },
  {
   "cell_type": "code",
   "execution_count": 93,
   "metadata": {},
   "outputs": [
    {
     "data": {
      "text/plain": [
       "{0, 1, 3, 7, 15, 31, 63, 127, 255}"
      ]
     },
     "execution_count": 93,
     "metadata": {},
     "output_type": "execute_result"
    }
   ],
   "source": [
    "working_points = set(data)\n",
    "working_points"
   ]
  },
  {
   "cell_type": "code",
   "execution_count": 94,
   "metadata": {},
   "outputs": [
    {
     "data": {
      "text/plain": [
       "0                 [255]\n",
       "1                    []\n",
       "2            [255, 255]\n",
       "3            [255, 255]\n",
       "4                    []\n",
       "              ...      \n",
       "245995           [3, 7]\n",
       "245996    [255, 255, 1]\n",
       "245997       [255, 255]\n",
       "245998              [7]\n",
       "245999        [255, 63]\n",
       "Name: Tau_idDeepTau2017v2p1VSjet, Length: 246000, dtype: object"
      ]
     },
     "execution_count": 94,
     "metadata": {},
     "output_type": "execute_result"
    }
   ],
   "source": [
    "df['Tau_idDeepTau2017v2p1VSjet']"
   ]
  },
  {
   "cell_type": "code",
   "execution_count": 97,
   "metadata": {},
   "outputs": [
    {
     "data": {
      "image/png": "[encoded data removed]",
      "text/plain": [
       "<Figure size 500x500 with 1 Axes>"
      ]
     },
     "metadata": {},
     "output_type": "display_data"
    }
   ],
   "source": [
    "plt.figure(figsize=(5,5))\n",
    "n, bins, patches = plt.hist(data, 30, color=\"#ffcc64\")  # 15 para os múons e 30 para elétrons e jets\n",
    "\n",
    "plt.xlabel('Valores', loc=\"right\", fontsize = 'large')\n",
    "plt.ylabel('Frequência', loc=\"top\")\n",
    "\n",
    "\n",
    "yellow_patch = mpatches.Patch(color='#ffcc64', label='Tau_idDeepTau2017v2p1VSjet')\n",
    "plt.legend(handles=[yellow_patch], edgecolor='white', title_fontsize='xx-small')\n",
    "\n",
    "\n",
    "plt.tick_params(axis='both', bottom=True, top=True, left=True, right=True,\n",
    "                direction='in', length=6, width=1, colors='black')\n",
    "plt.tick_params(axis='both', which='minor', direction='in', length=3, width=1, colors='black', top=True, right=True)\n",
    "\n",
    "\n",
    "\n",
    "\n",
    "plt.show()"
   ]
  }
 ],
 "metadata": {
  "kernelspec": {
   "display_name": "Python 3",
   "language": "python",
   "name": "python3"
  },
  "language_info": {
   "codemirror_mode": {
    "name": "ipython",
    "version": 3
   },
   "file_extension": ".py",
   "mimetype": "text/x-python",
   "name": "python",
   "nbconvert_exporter": "python",
   "pygments_lexer": "ipython3",
   "version": "3.9.13"
  }
 },
 "nbformat": 4,
 "nbformat_minor": 2
}
