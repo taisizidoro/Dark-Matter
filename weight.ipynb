{
 "cells": [
  {
   "cell_type": "code",
   "execution_count": 4,
   "metadata": {},
   "outputs": [],
   "source": [
    "import os\n",
    "import uproot as up\n",
    "import pandas as pd"
   ]
  },
  {
   "cell_type": "code",
   "execution_count": 2,
   "metadata": {},
   "outputs": [
    {
     "name": "stdout",
     "output_type": "stream",
     "text": [
      "MH1000_Ma100_MChi45\n",
      "acabou o primeiro\n",
      "MH400_Ma100_MChi45\n",
      "acabou o segundo\n"
     ]
    }
   ],
   "source": [
    "parsed_events = []\n",
    "print(\"MH1000_Ma100_MChi45\")\n",
    "#for file in os.listdir(r\"./PrivateSignal16_test/MH1000_Ma100_MChi45\"):\n",
    "for file in os.listdir(r\"D:\\taisd\\Documentos\\PrivateSignal16\\PrivateSignal16\\MH1000_Ma100_MChi45\"):\n",
    "    #print(file)\n",
    "    try:\n",
    "        #dataset = up.open(os.path.join(r\"./PrivateSignal16_test/MH1000_Ma100_MChi45\", file))\n",
    "        dataset = up.open(os.path.join(r\"D:\\taisd\\Documentos\\PrivateSignal16\\PrivateSignal16\\MH1000_Ma100_MChi45\", file))\n",
    "        tree = dataset.get(\"Events;1\")\n",
    "        objects = [\"Generator_weight\", \"genWeight\"]\n",
    "        events = tree.arrays(objects)\n",
    "\n",
    "        for event in events:\n",
    "            event = {k: getattr(event, k) for k in objects}\n",
    "            parsed_events.append(event)\n",
    "\n",
    "    except:\n",
    "        print(\"acabou o primeiro\")\n",
    "        break\n",
    "\n",
    "print(\"MH400_Ma100_MChi45\")\n",
    "#for file in os.listdir(r\"./PrivateSignal16_test/MH400_Ma100_MChi45\"):\n",
    "for file in os.listdir(r\"D:\\taisd\\Documentos\\PrivateSignal16\\PrivateSignal16\\MH400_Ma100_MChi45\"):\n",
    "    #print(file)\n",
    "    try:\n",
    "        #dataset2 = up.open(os.path.join(r\"./PrivateSignal16_test/MH400_Ma100_MChi45\", file))\n",
    "        dataset2 = up.open(os.path.join(r\"D:\\taisd\\Documentos\\PrivateSignal16\\PrivateSignal16\\MH400_Ma100_MChi45\", file))\n",
    "        tree2 = dataset2.get(\"Events;1\")\n",
    "        objects = [\"Generator_weight\", \"genWeight\"]\n",
    "        events2 = tree2.arrays(objects)\n",
    "\n",
    "        for event in events2:\n",
    "            event = {k: getattr(event, k) for k in objects}\n",
    "            parsed_events.append(event)\n",
    "    except:\n",
    "        print(\"acabou o segundo\")\n",
    "        break\n",
    "\n",
    "datasets = parsed_events"
   ]
  },
  {
   "cell_type": "code",
   "execution_count": 5,
   "metadata": {},
   "outputs": [
    {
     "name": "stdout",
     "output_type": "stream",
     "text": [
      "200000\n"
     ]
    }
   ],
   "source": [
    "df = pd.DataFrame(datasets)\n",
    "print(len(df))"
   ]
  },
  {
   "cell_type": "code",
   "execution_count": 8,
   "metadata": {},
   "outputs": [
    {
     "data": {
      "text/plain": [
       "4579.3857"
      ]
     },
     "execution_count": 8,
     "metadata": {},
     "output_type": "execute_result"
    }
   ],
   "source": [
    "df['Generator_weight'].sum()"
   ]
  },
  {
   "cell_type": "code",
   "execution_count": 9,
   "metadata": {},
   "outputs": [
    {
     "data": {
      "text/plain": [
       "4579.386"
      ]
     },
     "execution_count": 9,
     "metadata": {},
     "output_type": "execute_result"
    }
   ],
   "source": [
    "df['genWeight'].sum()"
   ]
  },
  {
   "cell_type": "code",
   "execution_count": 15,
   "metadata": {},
   "outputs": [
    {
     "name": "stdout",
     "output_type": "stream",
     "text": [
      "Número de eventos gerados: 8734795.231249517\n"
     ]
    }
   ],
   "source": [
    "numero_eventos_gerados = len(df) / df['genWeight'].mean()\n",
    "\n",
    "print(\"Número de eventos gerados:\", numero_eventos_gerados)"
   ]
  },
  {
   "cell_type": "code",
   "execution_count": 16,
   "metadata": {},
   "outputs": [
    {
     "data": {
      "text/plain": [
       "0.02289693"
      ]
     },
     "execution_count": 16,
     "metadata": {},
     "output_type": "execute_result"
    }
   ],
   "source": [
    "df['genWeight'].mean()"
   ]
  }
 ],
 "metadata": {
  "kernelspec": {
   "display_name": "Python 3",
   "language": "python",
   "name": "python3"
  },
  "language_info": {
   "codemirror_mode": {
    "name": "ipython",
    "version": 3
   },
   "file_extension": ".py",
   "mimetype": "text/x-python",
   "name": "python",
   "nbconvert_exporter": "python",
   "pygments_lexer": "ipython3",
   "version": "3.9.13"
  },
  "orig_nbformat": 4
 },
 "nbformat": 4,
 "nbformat_minor": 2
}
